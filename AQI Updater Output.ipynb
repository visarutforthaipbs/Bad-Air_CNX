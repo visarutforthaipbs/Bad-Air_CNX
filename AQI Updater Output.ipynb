{
 "cells": [
  {
   "cell_type": "markdown",
   "id": "7da62311-6810-49c1-878b-35084d42aaea",
   "metadata": {},
   "source": [
    "> Part of a series on auto-updating websites using GitHub Actions and GitHub Pages\n",
    "\n",
    "# Air Quality Updater: Complete dataset copier\n",
    "\n",
    "In this section, we are going to download the [AQI data of major cities from IQAir](https://www.iqair.com/us/world-air-quality-ranking) and save it as a CSV file.\n",
    "\n",
    "The URL is 'https://www.iqair.com/us/thailand/chiang-mai'.\n",
    "\n",
    "This approach is useful if you are looking to **directly copy a full dataset from the web** and use it to update a page or graphic. The alternate would be saving historical data over time, which I'll cover in another video.\n"
   ]
  },
  {
   "cell_type": "code",
   "execution_count": 1,
   "id": "392ba48a",
   "metadata": {
    "execution": {
     "iopub.execute_input": "2024-05-30T17:16:49.718079Z",
     "iopub.status.busy": "2024-05-30T17:16:49.717570Z",
     "iopub.status.idle": "2024-05-30T17:16:50.143636Z",
     "shell.execute_reply": "2024-05-30T17:16:50.142912Z"
    }
   },
   "outputs": [],
   "source": [
    "# Install necessary packages\n",
    "# Note: Uncomment the following lines if running in an environment where these packages are not installed\n",
    "# %pip install beautifulsoup4\n",
    "# %pip install lxml\n",
    "\n",
    "import requests\n",
    "from bs4 import BeautifulSoup\n",
    "import pandas as pd\n",
    "from datetime import datetime\n",
    "import os\n"
   ]
  },
  {
   "cell_type": "code",
   "execution_count": 2,
   "id": "7ca9e47a-301d-4295-8027-0c48fd654de8",
   "metadata": {
    "execution": {
     "iopub.execute_input": "2024-05-30T17:16:50.146924Z",
     "iopub.status.busy": "2024-05-30T17:16:50.146328Z",
     "iopub.status.idle": "2024-05-30T17:16:50.149429Z",
     "shell.execute_reply": "2024-05-30T17:16:50.148836Z"
    }
   },
   "outputs": [],
   "source": [
    "# Get the current date\n",
    "current_date = datetime.now().strftime('%Y-%m-%d')"
   ]
  },
  {
   "cell_type": "code",
   "execution_count": 3,
   "id": "25ad3fd6",
   "metadata": {
    "execution": {
     "iopub.execute_input": "2024-05-30T17:16:50.151892Z",
     "iopub.status.busy": "2024-05-30T17:16:50.151500Z",
     "iopub.status.idle": "2024-05-30T17:16:50.933942Z",
     "shell.execute_reply": "2024-05-30T17:16:50.933205Z"
    }
   },
   "outputs": [],
   "source": [
    "# Fetch AQI data from the website\n",
    "url = 'https://www.iqair.com/us/thailand/chiang-mai'\n",
    "\n",
    "try:\n",
    "    response = requests.get(url)\n",
    "    response.raise_for_status()  # Check for request errors\n",
    "except requests.exceptions.RequestException as e:\n",
    "    print(f\"Error fetching data: {e}\")\n",
    "    exit()"
   ]
  },
  {
   "cell_type": "code",
   "execution_count": 4,
   "id": "89094df8-9704-4d2d-b73b-e213565f1595",
   "metadata": {
    "execution": {
     "iopub.execute_input": "2024-05-30T17:16:50.936884Z",
     "iopub.status.busy": "2024-05-30T17:16:50.936671Z",
     "iopub.status.idle": "2024-05-30T17:16:50.992044Z",
     "shell.execute_reply": "2024-05-30T17:16:50.991347Z"
    }
   },
   "outputs": [],
   "source": [
    "# Parse the HTML content\n",
    "soup = BeautifulSoup(response.content, 'html.parser')"
   ]
  },
  {
   "cell_type": "code",
   "execution_count": 5,
   "id": "27669dfd-85a9-4d4f-bac0-c8d51534404d",
   "metadata": {
    "execution": {
     "iopub.execute_input": "2024-05-30T17:16:50.995413Z",
     "iopub.status.busy": "2024-05-30T17:16:50.994987Z",
     "iopub.status.idle": "2024-05-30T17:16:51.064245Z",
     "shell.execute_reply": "2024-05-30T17:16:51.063507Z"
    }
   },
   "outputs": [
    {
     "name": "stderr",
     "output_type": "stream",
     "text": [
      "/tmp/ipykernel_1804/3209529966.py:2: FutureWarning: Passing literal html to 'read_html' is deprecated and will be removed in a future version. To read from a literal string, wrap it in a 'StringIO' object.\n",
      "  tables = pd.read_html(str(soup))\n"
     ]
    }
   ],
   "source": [
    "# Extract tables\n",
    "tables = pd.read_html(str(soup))"
   ]
  },
  {
   "cell_type": "code",
   "execution_count": 6,
   "id": "24e50bc7-6d98-4fb0-b341-a309a74d34e9",
   "metadata": {
    "execution": {
     "iopub.execute_input": "2024-05-30T17:16:51.066982Z",
     "iopub.status.busy": "2024-05-30T17:16:51.066756Z",
     "iopub.status.idle": "2024-05-30T17:16:51.070167Z",
     "shell.execute_reply": "2024-05-30T17:16:51.069556Z"
    }
   },
   "outputs": [],
   "source": [
    "# Check if the desired table is in the response\n",
    "if len(tables) > 3:\n",
    "    df = tables[3]  # Assuming the required table is at index 3\n",
    "else:\n",
    "    print(\"Error: Expected table not found.\")\n",
    "    exit()"
   ]
  },
  {
   "cell_type": "code",
   "execution_count": 7,
   "id": "7ed7ccb6-aad0-4b4b-94a1-1dc7a5c910e6",
   "metadata": {
    "execution": {
     "iopub.execute_input": "2024-05-30T17:16:51.072455Z",
     "iopub.status.busy": "2024-05-30T17:16:51.072251Z",
     "iopub.status.idle": "2024-05-30T17:16:51.076049Z",
     "shell.execute_reply": "2024-05-30T17:16:51.075488Z"
    }
   },
   "outputs": [],
   "source": [
    "# Add the current date to the dataframe\n",
    "df['date_pulled'] = current_date"
   ]
  },
  {
   "cell_type": "code",
   "execution_count": 8,
   "id": "53f69d9f-1921-4158-9301-2da0afcdc1db",
   "metadata": {
    "execution": {
     "iopub.execute_input": "2024-05-30T17:16:51.078634Z",
     "iopub.status.busy": "2024-05-30T17:16:51.078226Z",
     "iopub.status.idle": "2024-05-30T17:16:51.082841Z",
     "shell.execute_reply": "2024-05-30T17:16:51.082185Z"
    }
   },
   "outputs": [],
   "source": [
    "# Clean the AQI column to retain only the number\n",
    "if 'Air quality index' in df.columns:\n",
    "    df['Air quality index'] = df['Air quality index'].str.extract('(\\d+)').astype(int)"
   ]
  },
  {
   "cell_type": "code",
   "execution_count": 9,
   "id": "c778a795-c9e7-4dc2-93a1-1750f9c023b9",
   "metadata": {
    "execution": {
     "iopub.execute_input": "2024-05-30T17:16:51.085471Z",
     "iopub.status.busy": "2024-05-30T17:16:51.085085Z",
     "iopub.status.idle": "2024-05-30T17:16:51.088912Z",
     "shell.execute_reply": "2024-05-30T17:16:51.088374Z"
    }
   },
   "outputs": [],
   "source": [
    "# Reorder the columns to make 'date_pulled' the first column\n",
    "first_column = df.pop('date_pulled')\n",
    "df.insert(0, 'date_pulled', first_column)"
   ]
  },
  {
   "cell_type": "code",
   "execution_count": 10,
   "id": "8d2379a4",
   "metadata": {
    "execution": {
     "iopub.execute_input": "2024-05-30T17:16:51.091605Z",
     "iopub.status.busy": "2024-05-30T17:16:51.091080Z",
     "iopub.status.idle": "2024-05-30T17:16:51.096989Z",
     "shell.execute_reply": "2024-05-30T17:16:51.096429Z"
    }
   },
   "outputs": [
    {
     "name": "stdout",
     "output_type": "stream",
     "text": [
      "  date_pulled             Air pollution level  Air quality index  \\\n",
      "0  2024-05-30  Unhealthy for sensitive groups                108   \n",
      "\n",
      "  Main pollutant  \n",
      "0          PM2.5  \n"
     ]
    }
   ],
   "source": [
    "# Display the dataframe with the new column order\n",
    "print(df.head())\n"
   ]
  },
  {
   "cell_type": "code",
   "execution_count": 11,
   "id": "3b41872f",
   "metadata": {
    "execution": {
     "iopub.execute_input": "2024-05-30T17:16:51.099531Z",
     "iopub.status.busy": "2024-05-30T17:16:51.099145Z",
     "iopub.status.idle": "2024-05-30T17:16:51.104841Z",
     "shell.execute_reply": "2024-05-30T17:16:51.104195Z"
    }
   },
   "outputs": [
    {
     "name": "stdout",
     "output_type": "stream",
     "text": [
      "Data saved to /home/runner/work/Bad-Air_CNX/Bad-Air_CNX/air-quality.csv\n"
     ]
    }
   ],
   "source": [
    "# Save the dataframe to a CSV file\n",
    "output_filename = \"air-quality.csv\"\n",
    "output_path = os.path.join(os.getcwd(), output_filename)\n",
    "df.to_csv(output_path, index=False)\n",
    "print(f\"Data saved to {output_path}\")"
   ]
  }
 ],
 "metadata": {
  "kernelspec": {
   "display_name": "Python 3 (ipykernel)",
   "language": "python",
   "name": "python3"
  },
  "language_info": {
   "codemirror_mode": {
    "name": "ipython",
    "version": 3
   },
   "file_extension": ".py",
   "mimetype": "text/x-python",
   "name": "python",
   "nbconvert_exporter": "python",
   "pygments_lexer": "ipython3",
   "version": "3.10.14"
  }
 },
 "nbformat": 4,
 "nbformat_minor": 5
}
