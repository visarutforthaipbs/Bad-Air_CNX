{
 "cells": [
  {
   "cell_type": "markdown",
   "id": "7da62311-6810-49c1-878b-35084d42aaea",
   "metadata": {},
   "source": [
    "> Part of a series on auto-updating websites using GitHub Actions and GitHub Pages\n",
    "\n",
    "# Air Quality Updater: Complete dataset copier\n",
    "\n",
    "In this section, we are going to download the [AQI data of major cities from IQAir](https://www.iqair.com/us/world-air-quality-ranking) and save it as a CSV file.\n",
    "\n",
    "The URL is 'https://www.iqair.com/us/thailand/chiang-mai'.\n",
    "\n",
    "This approach is useful if you are looking to **directly copy a full dataset from the web** and use it to update a page or graphic. The alternate would be saving historical data over time, which I'll cover in another video.\n"
   ]
  },
  {
   "cell_type": "code",
   "execution_count": 1,
   "id": "392ba48a",
   "metadata": {
    "execution": {
     "iopub.execute_input": "2024-07-07T01:17:32.259699Z",
     "iopub.status.busy": "2024-07-07T01:17:32.259501Z",
     "iopub.status.idle": "2024-07-07T01:17:32.740814Z",
     "shell.execute_reply": "2024-07-07T01:17:32.740180Z"
    }
   },
   "outputs": [],
   "source": [
    "import requests\n",
    "from bs4 import BeautifulSoup\n",
    "import pandas as pd\n",
    "from datetime import datetime\n",
    "import os\n",
    "from io import StringIO\n",
    "from datetime import datetime"
   ]
  },
  {
   "cell_type": "code",
   "execution_count": 2,
   "id": "7ca9e47a-301d-4295-8027-0c48fd654de8",
   "metadata": {
    "execution": {
     "iopub.execute_input": "2024-07-07T01:17:32.743917Z",
     "iopub.status.busy": "2024-07-07T01:17:32.743399Z",
     "iopub.status.idle": "2024-07-07T01:17:32.747060Z",
     "shell.execute_reply": "2024-07-07T01:17:32.746424Z"
    }
   },
   "outputs": [
    {
     "name": "stdout",
     "output_type": "stream",
     "text": [
      "Current Date: 2024-07-07\n"
     ]
    }
   ],
   "source": [
    "# Get the current date\n",
    "current_date = datetime.now().strftime('%Y-%m-%d')\n",
    "print(f\"Current Date: {current_date}\")"
   ]
  },
  {
   "cell_type": "code",
   "execution_count": 3,
   "id": "25ad3fd6",
   "metadata": {
    "execution": {
     "iopub.execute_input": "2024-07-07T01:17:32.749469Z",
     "iopub.status.busy": "2024-07-07T01:17:32.749133Z",
     "iopub.status.idle": "2024-07-07T01:17:34.027241Z",
     "shell.execute_reply": "2024-07-07T01:17:34.026595Z"
    }
   },
   "outputs": [],
   "source": [
    "\n",
    "# Fetch AQI data from the website\n",
    "url = 'https://www.iqair.com/us/thailand/chiang-mai'\n",
    "\n",
    "try:\n",
    "    response = requests.get(url)\n",
    "    response.raise_for_status()  # Check for request errors\n",
    "except requests.exceptions.RequestException as e:\n",
    "    print(f\"Error fetching data: {e}\")\n",
    "    exit()\n"
   ]
  },
  {
   "cell_type": "code",
   "execution_count": 4,
   "id": "89094df8-9704-4d2d-b73b-e213565f1595",
   "metadata": {
    "execution": {
     "iopub.execute_input": "2024-07-07T01:17:34.030129Z",
     "iopub.status.busy": "2024-07-07T01:17:34.029765Z",
     "iopub.status.idle": "2024-07-07T01:17:34.123792Z",
     "shell.execute_reply": "2024-07-07T01:17:34.123160Z"
    }
   },
   "outputs": [],
   "source": [
    "# Parse the HTML content\n",
    "soup = BeautifulSoup(response.content, 'html.parser')"
   ]
  },
  {
   "cell_type": "code",
   "execution_count": 5,
   "id": "27669dfd-85a9-4d4f-bac0-c8d51534404d",
   "metadata": {
    "execution": {
     "iopub.execute_input": "2024-07-07T01:17:34.126471Z",
     "iopub.status.busy": "2024-07-07T01:17:34.125989Z",
     "iopub.status.idle": "2024-07-07T01:17:34.191281Z",
     "shell.execute_reply": "2024-07-07T01:17:34.190626Z"
    }
   },
   "outputs": [],
   "source": [
    "# Extract tables using StringIO to avoid the FutureWarning\n",
    "tables = pd.read_html(StringIO(str(soup)))"
   ]
  },
  {
   "cell_type": "code",
   "execution_count": 6,
   "id": "24e50bc7-6d98-4fb0-b341-a309a74d34e9",
   "metadata": {
    "execution": {
     "iopub.execute_input": "2024-07-07T01:17:34.194260Z",
     "iopub.status.busy": "2024-07-07T01:17:34.193886Z",
     "iopub.status.idle": "2024-07-07T01:17:34.197188Z",
     "shell.execute_reply": "2024-07-07T01:17:34.196578Z"
    }
   },
   "outputs": [],
   "source": [
    "# Check if the desired table is in the response\n",
    "if len(tables) > 3:\n",
    "    df = tables[3]  # Assuming the required table is at index 3\n",
    "else:\n",
    "    print(\"Error: Expected table not found.\")\n",
    "    exit()"
   ]
  },
  {
   "cell_type": "code",
   "execution_count": 7,
   "id": "7ed7ccb6-aad0-4b4b-94a1-1dc7a5c910e6",
   "metadata": {
    "execution": {
     "iopub.execute_input": "2024-07-07T01:17:34.199537Z",
     "iopub.status.busy": "2024-07-07T01:17:34.199231Z",
     "iopub.status.idle": "2024-07-07T01:17:34.202578Z",
     "shell.execute_reply": "2024-07-07T01:17:34.202040Z"
    }
   },
   "outputs": [],
   "source": [
    "# Add the current date to the dataframe\n",
    "df['date_pulled'] = current_date\n"
   ]
  },
  {
   "cell_type": "code",
   "execution_count": 8,
   "id": "53f69d9f-1921-4158-9301-2da0afcdc1db",
   "metadata": {
    "execution": {
     "iopub.execute_input": "2024-07-07T01:17:34.205041Z",
     "iopub.status.busy": "2024-07-07T01:17:34.204661Z",
     "iopub.status.idle": "2024-07-07T01:17:34.208626Z",
     "shell.execute_reply": "2024-07-07T01:17:34.208027Z"
    }
   },
   "outputs": [],
   "source": [
    "# Clean the AQI column to retain only the number\n",
    "if 'Air quality index' in df.columns:\n",
    "    df['Air quality index'] = df['Air quality index'].str.extract(r'(\\d+)').astype(int)  # Use raw string"
   ]
  },
  {
   "cell_type": "code",
   "execution_count": 9,
   "id": "c778a795-c9e7-4dc2-93a1-1750f9c023b9",
   "metadata": {
    "execution": {
     "iopub.execute_input": "2024-07-07T01:17:34.211020Z",
     "iopub.status.busy": "2024-07-07T01:17:34.210646Z",
     "iopub.status.idle": "2024-07-07T01:17:34.214220Z",
     "shell.execute_reply": "2024-07-07T01:17:34.213667Z"
    }
   },
   "outputs": [],
   "source": [
    "# Reorder the columns to make 'date_pulled' the first column\n",
    "first_column = df.pop('date_pulled')\n",
    "df.insert(0, 'date_pulled', first_column)"
   ]
  },
  {
   "cell_type": "code",
   "execution_count": 10,
   "id": "8d2379a4",
   "metadata": {
    "execution": {
     "iopub.execute_input": "2024-07-07T01:17:34.216744Z",
     "iopub.status.busy": "2024-07-07T01:17:34.216381Z",
     "iopub.status.idle": "2024-07-07T01:17:34.219065Z",
     "shell.execute_reply": "2024-07-07T01:17:34.218490Z"
    }
   },
   "outputs": [],
   "source": [
    "# File path for the CSV file\n",
    "file_path = 'aqi_data.csv'"
   ]
  },
  {
   "cell_type": "code",
   "execution_count": 11,
   "id": "3b41872f",
   "metadata": {
    "execution": {
     "iopub.execute_input": "2024-07-07T01:17:34.221344Z",
     "iopub.status.busy": "2024-07-07T01:17:34.221040Z",
     "iopub.status.idle": "2024-07-07T01:17:34.226895Z",
     "shell.execute_reply": "2024-07-07T01:17:34.226283Z"
    }
   },
   "outputs": [],
   "source": [
    "# Check if the file exists\n",
    "if os.path.exists(file_path):\n",
    "    # Read the existing data from the file\n",
    "    existing_df = pd.read_csv(file_path)\n",
    "    # Append the new data to the existing data\n",
    "    updated_df = pd.concat([existing_df, df])\n",
    "else:\n",
    "    # If the file does not exist, use the new data as the initial dataframe\n",
    "    updated_df = df"
   ]
  },
  {
   "cell_type": "code",
   "execution_count": 12,
   "id": "4d6ade83",
   "metadata": {
    "execution": {
     "iopub.execute_input": "2024-07-07T01:17:34.229443Z",
     "iopub.status.busy": "2024-07-07T01:17:34.229091Z",
     "iopub.status.idle": "2024-07-07T01:17:34.233700Z",
     "shell.execute_reply": "2024-07-07T01:17:34.233070Z"
    }
   },
   "outputs": [],
   "source": [
    "# Save the updated dataframe to the CSV file\n",
    "updated_df.to_csv(file_path, index=False)"
   ]
  },
  {
   "cell_type": "code",
   "execution_count": 13,
   "id": "f3bbc560",
   "metadata": {
    "execution": {
     "iopub.execute_input": "2024-07-07T01:17:34.236282Z",
     "iopub.status.busy": "2024-07-07T01:17:34.235849Z",
     "iopub.status.idle": "2024-07-07T01:17:34.244575Z",
     "shell.execute_reply": "2024-07-07T01:17:34.244031Z"
    }
   },
   "outputs": [
    {
     "name": "stdout",
     "output_type": "stream",
     "text": [
      "   date_pulled Air pollution level  Air quality index Main pollutant  \\\n",
      "0   2024-05-31            Moderate               98.0          PM2.5   \n",
      "1   2024-05-30            Moderate               98.0          PM2.5   \n",
      "2   2024-05-31            Moderate               94.0          PM2.5   \n",
      "3   2024-06-01            Moderate               85.0          PM2.5   \n",
      "4   2024-06-02                Good               50.0          PM2.5   \n",
      "5   2024-06-03                Good               10.0          PM2.5   \n",
      "6   2024-06-04            Moderate               53.0          PM2.5   \n",
      "7   2024-06-05            Moderate               70.0          PM2.5   \n",
      "8   2024-06-07                Good               37.0          PM2.5   \n",
      "9   2024-06-08            Moderate               63.0          PM2.5   \n",
      "10  2024-06-09            Moderate               89.0          PM2.5   \n",
      "11  2024-06-10            Moderate               79.0          PM2.5   \n",
      "12  2024-06-11            Moderate               71.0          PM2.5   \n",
      "13  2024-06-12            Moderate               69.0          PM2.5   \n",
      "14  2024-06-13                Good               48.0          PM2.5   \n",
      "15  2024-06-14                Good               27.0          PM2.5   \n",
      "16  2024-06-15                Good               15.0          PM2.5   \n",
      "17  2024-06-16            Moderate               62.0          PM2.5   \n",
      "18  2024-06-17            Moderate               62.0          PM2.5   \n",
      "19  2024-06-18            Moderate               66.0          PM2.5   \n",
      "20  2024-06-19                Good               44.0          PM2.5   \n",
      "21  2024-06-20                Good               37.0          PM2.5   \n",
      "22  2024-06-21                Good               37.0          PM2.5   \n",
      "23  2024-06-22                 NaN                NaN            NaN   \n",
      "24  2024-06-22                 NaN                NaN            NaN   \n",
      "25  2024-06-22                 NaN                NaN            NaN   \n",
      "26  2024-06-22                 NaN                NaN            NaN   \n",
      "27  2024-06-22                 NaN                NaN            NaN   \n",
      "28  2024-06-22                 NaN                NaN            NaN   \n",
      "29  2024-06-22                 NaN                NaN            NaN   \n",
      "30  2024-06-22                 NaN                NaN            NaN   \n",
      "31  2024-06-22                 NaN                NaN            NaN   \n",
      "32  2024-06-22                 NaN                NaN            NaN   \n",
      "33  2024-06-23                Good               16.0          PM2.5   \n",
      "34  2024-06-24                Good               38.0          PM2.5   \n",
      "35  2024-06-25                Good               22.0          PM2.5   \n",
      "36  2024-06-26                Good               11.0          PM2.5   \n",
      "37  2024-06-27                Good               19.0          PM2.5   \n",
      "38  2024-06-28                Good               22.0          PM2.5   \n",
      "39  2024-06-29                Good               33.0          PM2.5   \n",
      "40  2024-06-30                Good               22.0          PM2.5   \n",
      "41  2024-07-01                Good               22.0          PM2.5   \n",
      "42  2024-07-02                Good               27.0          PM2.5   \n",
      "43  2024-07-03                Good               38.0          PM2.5   \n",
      "44  2024-07-04                Good               36.0          PM2.5   \n",
      "45  2024-07-05                Good               33.0          PM2.5   \n",
      "46  2024-07-06                Good               49.0          PM2.5   \n",
      "0   2024-07-07                Good               16.0          PM2.5   \n",
      "\n",
      "                  Day     Pollution level Weather  Temperature      Wind  \n",
      "0                 NaN                 NaN     NaN          NaN       NaN  \n",
      "1                 NaN                 NaN     NaN          NaN       NaN  \n",
      "2                 NaN                 NaN     NaN          NaN       NaN  \n",
      "3                 NaN                 NaN     NaN          NaN       NaN  \n",
      "4                 NaN                 NaN     NaN          NaN       NaN  \n",
      "5                 NaN                 NaN     NaN          NaN       NaN  \n",
      "6                 NaN                 NaN     NaN          NaN       NaN  \n",
      "7                 NaN                 NaN     NaN          NaN       NaN  \n",
      "8                 NaN                 NaN     NaN          NaN       NaN  \n",
      "9                 NaN                 NaN     NaN          NaN       NaN  \n",
      "10                NaN                 NaN     NaN          NaN       NaN  \n",
      "11                NaN                 NaN     NaN          NaN       NaN  \n",
      "12                NaN                 NaN     NaN          NaN       NaN  \n",
      "13                NaN                 NaN     NaN          NaN       NaN  \n",
      "14                NaN                 NaN     NaN          NaN       NaN  \n",
      "15                NaN                 NaN     NaN          NaN       NaN  \n",
      "16                NaN                 NaN     NaN          NaN       NaN  \n",
      "17                NaN                 NaN     NaN          NaN       NaN  \n",
      "18                NaN                 NaN     NaN          NaN       NaN  \n",
      "19                NaN                 NaN     NaN          NaN       NaN  \n",
      "20                NaN                 NaN     NaN          NaN       NaN  \n",
      "21                NaN                 NaN     NaN          NaN       NaN  \n",
      "22                NaN                 NaN     NaN          NaN       NaN  \n",
      "23  Wednesday, Jun 19      Good 29 AQI US     NaN  89.6° 71.6°  2.2 mp/h  \n",
      "24   Thursday, Jun 20      Good 26 AQI US     NaN  91.4° 73.4°  2.2 mp/h  \n",
      "25     Friday, Jun 21      Good 37 AQI US     NaN  93.2° 73.4°  2.2 mp/h  \n",
      "26              Today      Good 49 AQI US    100%  93.2° 75.2°  2.2 mp/h  \n",
      "27     Sunday, Jun 23  Moderate 59 AQI US    100%  91.4° 73.4°  2.2 mp/h  \n",
      "28     Monday, Jun 24  Moderate 59 AQI US     70%  80.6° 75.2°  2.2 mp/h  \n",
      "29    Tuesday, Jun 25  Moderate 58 AQI US    100%  75.2° 73.4°  2.2 mp/h  \n",
      "30  Wednesday, Jun 26  Moderate 71 AQI US    100%  84.2° 73.4°  2.2 mp/h  \n",
      "31   Thursday, Jun 27  Moderate 69 AQI US    100%    86° 73.4°  2.2 mp/h  \n",
      "32     Friday, Jun 28  Moderate 75 AQI US    100%  80.6° 73.4°  2.2 mp/h  \n",
      "33                NaN                 NaN     NaN          NaN       NaN  \n",
      "34                NaN                 NaN     NaN          NaN       NaN  \n",
      "35                NaN                 NaN     NaN          NaN       NaN  \n",
      "36                NaN                 NaN     NaN          NaN       NaN  \n",
      "37                NaN                 NaN     NaN          NaN       NaN  \n",
      "38                NaN                 NaN     NaN          NaN       NaN  \n",
      "39                NaN                 NaN     NaN          NaN       NaN  \n",
      "40                NaN                 NaN     NaN          NaN       NaN  \n",
      "41                NaN                 NaN     NaN          NaN       NaN  \n",
      "42                NaN                 NaN     NaN          NaN       NaN  \n",
      "43                NaN                 NaN     NaN          NaN       NaN  \n",
      "44                NaN                 NaN     NaN          NaN       NaN  \n",
      "45                NaN                 NaN     NaN          NaN       NaN  \n",
      "46                NaN                 NaN     NaN          NaN       NaN  \n",
      "0                 NaN                 NaN     NaN          NaN       NaN  \n"
     ]
    }
   ],
   "source": [
    "# Display the dataframe\n",
    "print(updated_df)"
   ]
  }
 ],
 "metadata": {
  "kernelspec": {
   "display_name": "Python 3 (ipykernel)",
   "language": "python",
   "name": "python3"
  },
  "language_info": {
   "codemirror_mode": {
    "name": "ipython",
    "version": 3
   },
   "file_extension": ".py",
   "mimetype": "text/x-python",
   "name": "python",
   "nbconvert_exporter": "python",
   "pygments_lexer": "ipython3",
   "version": "3.10.14"
  }
 },
 "nbformat": 4,
 "nbformat_minor": 5
}
