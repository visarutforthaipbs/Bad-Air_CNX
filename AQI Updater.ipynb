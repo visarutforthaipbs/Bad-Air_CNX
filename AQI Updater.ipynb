{
 "cells": [
  {
   "cell_type": "markdown",
   "id": "7da62311-6810-49c1-878b-35084d42aaea",
   "metadata": {},
   "source": [
    "> Part of a series on auto-updating websites using GitHub Actions and GitHub Pages\n",
    "\n",
    "# Air Quality Updater: Complete dataset copier\n",
    "\n",
    "In this section, we are going to download the [AQI data of major cities from IQAir](https://www.iqair.com/us/world-air-quality-ranking) and save it as a CSV file.\n",
    "\n",
    "The URL is 'https://www.iqair.com/us/thailand/chiang-mai'.\n",
    "\n",
    "This approach is useful if you are looking to **directly copy a full dataset from the web** and use it to update a page or graphic. The alternate would be saving historical data over time, which I'll cover in another video.\n"
   ]
  },
  {
   "cell_type": "code",
   "execution_count": 1,
   "id": "392ba48a",
   "metadata": {
    "execution": {
     "iopub.execute_input": "2024-06-22T01:09:33.792002Z",
     "iopub.status.busy": "2024-06-22T01:09:33.791807Z",
     "iopub.status.idle": "2024-06-22T01:09:34.308072Z",
     "shell.execute_reply": "2024-06-22T01:09:34.307447Z"
    }
   },
   "outputs": [],
   "source": [
    "import requests\n",
    "from bs4 import BeautifulSoup\n",
    "import pandas as pd\n",
    "from datetime import datetime\n",
    "import os\n",
    "from io import StringIO\n",
    "from datetime import datetime"
   ]
  },
  {
   "cell_type": "code",
   "execution_count": 2,
   "id": "7ca9e47a-301d-4295-8027-0c48fd654de8",
   "metadata": {
    "execution": {
     "iopub.execute_input": "2024-06-22T01:09:34.311192Z",
     "iopub.status.busy": "2024-06-22T01:09:34.310648Z",
     "iopub.status.idle": "2024-06-22T01:09:34.314746Z",
     "shell.execute_reply": "2024-06-22T01:09:34.314111Z"
    }
   },
   "outputs": [
    {
     "name": "stdout",
     "output_type": "stream",
     "text": [
      "Current Date: 2024-06-22\n"
     ]
    }
   ],
   "source": [
    "# Get the current date\n",
    "current_date = datetime.now().strftime('%Y-%m-%d')\n",
    "print(f\"Current Date: {current_date}\")"
   ]
  },
  {
   "cell_type": "code",
   "execution_count": 3,
   "id": "25ad3fd6",
   "metadata": {
    "execution": {
     "iopub.execute_input": "2024-06-22T01:09:34.317151Z",
     "iopub.status.busy": "2024-06-22T01:09:34.316814Z",
     "iopub.status.idle": "2024-06-22T01:09:35.477901Z",
     "shell.execute_reply": "2024-06-22T01:09:35.477192Z"
    }
   },
   "outputs": [],
   "source": [
    "\n",
    "# Fetch AQI data from the website\n",
    "url = 'https://www.iqair.com/us/thailand/chiang-mai'\n",
    "\n",
    "try:\n",
    "    response = requests.get(url)\n",
    "    response.raise_for_status()  # Check for request errors\n",
    "except requests.exceptions.RequestException as e:\n",
    "    print(f\"Error fetching data: {e}\")\n",
    "    exit()\n"
   ]
  },
  {
   "cell_type": "code",
   "execution_count": 4,
   "id": "89094df8-9704-4d2d-b73b-e213565f1595",
   "metadata": {
    "execution": {
     "iopub.execute_input": "2024-06-22T01:09:35.481035Z",
     "iopub.status.busy": "2024-06-22T01:09:35.480481Z",
     "iopub.status.idle": "2024-06-22T01:09:35.573035Z",
     "shell.execute_reply": "2024-06-22T01:09:35.572314Z"
    }
   },
   "outputs": [],
   "source": [
    "# Parse the HTML content\n",
    "soup = BeautifulSoup(response.content, 'html.parser')"
   ]
  },
  {
   "cell_type": "code",
   "execution_count": 5,
   "id": "27669dfd-85a9-4d4f-bac0-c8d51534404d",
   "metadata": {
    "execution": {
     "iopub.execute_input": "2024-06-22T01:09:35.575534Z",
     "iopub.status.busy": "2024-06-22T01:09:35.575321Z",
     "iopub.status.idle": "2024-06-22T01:09:35.636643Z",
     "shell.execute_reply": "2024-06-22T01:09:35.635932Z"
    }
   },
   "outputs": [],
   "source": [
    "# Extract tables using StringIO to avoid the FutureWarning\n",
    "tables = pd.read_html(StringIO(str(soup)))"
   ]
  },
  {
   "cell_type": "code",
   "execution_count": 6,
   "id": "24e50bc7-6d98-4fb0-b341-a309a74d34e9",
   "metadata": {
    "execution": {
     "iopub.execute_input": "2024-06-22T01:09:35.639322Z",
     "iopub.status.busy": "2024-06-22T01:09:35.639115Z",
     "iopub.status.idle": "2024-06-22T01:09:35.642385Z",
     "shell.execute_reply": "2024-06-22T01:09:35.641778Z"
    }
   },
   "outputs": [],
   "source": [
    "# Check if the desired table is in the response\n",
    "if len(tables) > 3:\n",
    "    df = tables[3]  # Assuming the required table is at index 3\n",
    "else:\n",
    "    print(\"Error: Expected table not found.\")\n",
    "    exit()"
   ]
  },
  {
   "cell_type": "code",
   "execution_count": 7,
   "id": "7ed7ccb6-aad0-4b4b-94a1-1dc7a5c910e6",
   "metadata": {
    "execution": {
     "iopub.execute_input": "2024-06-22T01:09:35.644643Z",
     "iopub.status.busy": "2024-06-22T01:09:35.644433Z",
     "iopub.status.idle": "2024-06-22T01:09:35.647815Z",
     "shell.execute_reply": "2024-06-22T01:09:35.647285Z"
    }
   },
   "outputs": [],
   "source": [
    "# Add the current date to the dataframe\n",
    "df['date_pulled'] = current_date\n"
   ]
  },
  {
   "cell_type": "code",
   "execution_count": 8,
   "id": "53f69d9f-1921-4158-9301-2da0afcdc1db",
   "metadata": {
    "execution": {
     "iopub.execute_input": "2024-06-22T01:09:35.650104Z",
     "iopub.status.busy": "2024-06-22T01:09:35.649911Z",
     "iopub.status.idle": "2024-06-22T01:09:35.653114Z",
     "shell.execute_reply": "2024-06-22T01:09:35.652572Z"
    }
   },
   "outputs": [],
   "source": [
    "# Clean the AQI column to retain only the number\n",
    "if 'Air quality index' in df.columns:\n",
    "    df['Air quality index'] = df['Air quality index'].str.extract(r'(\\d+)').astype(int)  # Use raw string"
   ]
  },
  {
   "cell_type": "code",
   "execution_count": 9,
   "id": "c778a795-c9e7-4dc2-93a1-1750f9c023b9",
   "metadata": {
    "execution": {
     "iopub.execute_input": "2024-06-22T01:09:35.655439Z",
     "iopub.status.busy": "2024-06-22T01:09:35.655247Z",
     "iopub.status.idle": "2024-06-22T01:09:35.658722Z",
     "shell.execute_reply": "2024-06-22T01:09:35.658140Z"
    }
   },
   "outputs": [],
   "source": [
    "# Reorder the columns to make 'date_pulled' the first column\n",
    "first_column = df.pop('date_pulled')\n",
    "df.insert(0, 'date_pulled', first_column)"
   ]
  },
  {
   "cell_type": "code",
   "execution_count": 10,
   "id": "8d2379a4",
   "metadata": {
    "execution": {
     "iopub.execute_input": "2024-06-22T01:09:35.660865Z",
     "iopub.status.busy": "2024-06-22T01:09:35.660673Z",
     "iopub.status.idle": "2024-06-22T01:09:35.663448Z",
     "shell.execute_reply": "2024-06-22T01:09:35.662909Z"
    }
   },
   "outputs": [],
   "source": [
    "# File path for the CSV file\n",
    "file_path = 'aqi_data.csv'"
   ]
  },
  {
   "cell_type": "code",
   "execution_count": 11,
   "id": "3b41872f",
   "metadata": {
    "execution": {
     "iopub.execute_input": "2024-06-22T01:09:35.665613Z",
     "iopub.status.busy": "2024-06-22T01:09:35.665422Z",
     "iopub.status.idle": "2024-06-22T01:09:35.671329Z",
     "shell.execute_reply": "2024-06-22T01:09:35.670794Z"
    }
   },
   "outputs": [],
   "source": [
    "# Check if the file exists\n",
    "if os.path.exists(file_path):\n",
    "    # Read the existing data from the file\n",
    "    existing_df = pd.read_csv(file_path)\n",
    "    # Append the new data to the existing data\n",
    "    updated_df = pd.concat([existing_df, df])\n",
    "else:\n",
    "    # If the file does not exist, use the new data as the initial dataframe\n",
    "    updated_df = df"
   ]
  },
  {
   "cell_type": "code",
   "execution_count": 12,
   "id": "4d6ade83",
   "metadata": {
    "execution": {
     "iopub.execute_input": "2024-06-22T01:09:35.673807Z",
     "iopub.status.busy": "2024-06-22T01:09:35.673608Z",
     "iopub.status.idle": "2024-06-22T01:09:35.678079Z",
     "shell.execute_reply": "2024-06-22T01:09:35.677578Z"
    }
   },
   "outputs": [],
   "source": [
    "# Save the updated dataframe to the CSV file\n",
    "updated_df.to_csv(file_path, index=False)"
   ]
  },
  {
   "cell_type": "code",
   "execution_count": 13,
   "id": "f3bbc560",
   "metadata": {
    "execution": {
     "iopub.execute_input": "2024-06-22T01:09:35.680458Z",
     "iopub.status.busy": "2024-06-22T01:09:35.680257Z",
     "iopub.status.idle": "2024-06-22T01:09:35.688877Z",
     "shell.execute_reply": "2024-06-22T01:09:35.688188Z"
    }
   },
   "outputs": [
    {
     "name": "stdout",
     "output_type": "stream",
     "text": [
      "   date_pulled Air pollution level  Air quality index Main pollutant  \\\n",
      "0   2024-05-31            Moderate               98.0          PM2.5   \n",
      "1   2024-05-30            Moderate               98.0          PM2.5   \n",
      "2   2024-05-31            Moderate               94.0          PM2.5   \n",
      "3   2024-06-01            Moderate               85.0          PM2.5   \n",
      "4   2024-06-02                Good               50.0          PM2.5   \n",
      "5   2024-06-03                Good               10.0          PM2.5   \n",
      "6   2024-06-04            Moderate               53.0          PM2.5   \n",
      "7   2024-06-05            Moderate               70.0          PM2.5   \n",
      "8   2024-06-07                Good               37.0          PM2.5   \n",
      "9   2024-06-08            Moderate               63.0          PM2.5   \n",
      "10  2024-06-09            Moderate               89.0          PM2.5   \n",
      "11  2024-06-10            Moderate               79.0          PM2.5   \n",
      "12  2024-06-11            Moderate               71.0          PM2.5   \n",
      "13  2024-06-12            Moderate               69.0          PM2.5   \n",
      "14  2024-06-13                Good               48.0          PM2.5   \n",
      "15  2024-06-14                Good               27.0          PM2.5   \n",
      "16  2024-06-15                Good               15.0          PM2.5   \n",
      "17  2024-06-16            Moderate               62.0          PM2.5   \n",
      "18  2024-06-17            Moderate               62.0          PM2.5   \n",
      "19  2024-06-18            Moderate               66.0          PM2.5   \n",
      "20  2024-06-19                Good               44.0          PM2.5   \n",
      "21  2024-06-20                Good               37.0          PM2.5   \n",
      "22  2024-06-21                Good               37.0          PM2.5   \n",
      "0   2024-06-22                 NaN                NaN            NaN   \n",
      "1   2024-06-22                 NaN                NaN            NaN   \n",
      "2   2024-06-22                 NaN                NaN            NaN   \n",
      "3   2024-06-22                 NaN                NaN            NaN   \n",
      "4   2024-06-22                 NaN                NaN            NaN   \n",
      "5   2024-06-22                 NaN                NaN            NaN   \n",
      "6   2024-06-22                 NaN                NaN            NaN   \n",
      "7   2024-06-22                 NaN                NaN            NaN   \n",
      "8   2024-06-22                 NaN                NaN            NaN   \n",
      "9   2024-06-22                 NaN                NaN            NaN   \n",
      "\n",
      "                  Day     Pollution level Weather  Temperature      Wind  \n",
      "0                 NaN                 NaN     NaN          NaN       NaN  \n",
      "1                 NaN                 NaN     NaN          NaN       NaN  \n",
      "2                 NaN                 NaN     NaN          NaN       NaN  \n",
      "3                 NaN                 NaN     NaN          NaN       NaN  \n",
      "4                 NaN                 NaN     NaN          NaN       NaN  \n",
      "5                 NaN                 NaN     NaN          NaN       NaN  \n",
      "6                 NaN                 NaN     NaN          NaN       NaN  \n",
      "7                 NaN                 NaN     NaN          NaN       NaN  \n",
      "8                 NaN                 NaN     NaN          NaN       NaN  \n",
      "9                 NaN                 NaN     NaN          NaN       NaN  \n",
      "10                NaN                 NaN     NaN          NaN       NaN  \n",
      "11                NaN                 NaN     NaN          NaN       NaN  \n",
      "12                NaN                 NaN     NaN          NaN       NaN  \n",
      "13                NaN                 NaN     NaN          NaN       NaN  \n",
      "14                NaN                 NaN     NaN          NaN       NaN  \n",
      "15                NaN                 NaN     NaN          NaN       NaN  \n",
      "16                NaN                 NaN     NaN          NaN       NaN  \n",
      "17                NaN                 NaN     NaN          NaN       NaN  \n",
      "18                NaN                 NaN     NaN          NaN       NaN  \n",
      "19                NaN                 NaN     NaN          NaN       NaN  \n",
      "20                NaN                 NaN     NaN          NaN       NaN  \n",
      "21                NaN                 NaN     NaN          NaN       NaN  \n",
      "22                NaN                 NaN     NaN          NaN       NaN  \n",
      "0   Wednesday, Jun 19      Good 29 AQI US     NaN  89.6° 71.6°  2.2 mp/h  \n",
      "1    Thursday, Jun 20      Good 26 AQI US     NaN  91.4° 73.4°  2.2 mp/h  \n",
      "2      Friday, Jun 21      Good 37 AQI US     NaN  93.2° 73.4°  2.2 mp/h  \n",
      "3               Today      Good 49 AQI US    100%  93.2° 75.2°  2.2 mp/h  \n",
      "4      Sunday, Jun 23  Moderate 59 AQI US    100%  91.4° 73.4°  2.2 mp/h  \n",
      "5      Monday, Jun 24  Moderate 59 AQI US     70%  80.6° 75.2°  2.2 mp/h  \n",
      "6     Tuesday, Jun 25  Moderate 58 AQI US    100%  75.2° 73.4°  2.2 mp/h  \n",
      "7   Wednesday, Jun 26  Moderate 71 AQI US    100%  84.2° 73.4°  2.2 mp/h  \n",
      "8    Thursday, Jun 27  Moderate 69 AQI US    100%    86° 73.4°  2.2 mp/h  \n",
      "9      Friday, Jun 28  Moderate 75 AQI US    100%  80.6° 73.4°  2.2 mp/h  \n"
     ]
    }
   ],
   "source": [
    "# Display the dataframe\n",
    "print(updated_df)"
   ]
  }
 ],
 "metadata": {
  "kernelspec": {
   "display_name": "Python 3 (ipykernel)",
   "language": "python",
   "name": "python3"
  },
  "language_info": {
   "codemirror_mode": {
    "name": "ipython",
    "version": 3
   },
   "file_extension": ".py",
   "mimetype": "text/x-python",
   "name": "python",
   "nbconvert_exporter": "python",
   "pygments_lexer": "ipython3",
   "version": "3.10.14"
  }
 },
 "nbformat": 4,
 "nbformat_minor": 5
}
